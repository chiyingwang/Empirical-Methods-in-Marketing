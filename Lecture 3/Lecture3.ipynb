{
  "nbformat": 4,
  "nbformat_minor": 0,
  "metadata": {
    "colab": {
      "name": "Lecture3.ipynb",
      "provenance": []
    },
    "kernelspec": {
      "name": "python3",
      "display_name": "Python 3"
    },
    "language_info": {
      "name": "python"
    }
  },
  "cells": [
    {
      "cell_type": "markdown",
      "source": [
        "##**Empirical Methods in Marketing**\n",
        "###Lecture 3: Single Agent Dynamic Models: Nested Fixed Point Approach\n",
        "\n",
        "<br/>\n",
        "\n",
        "#### **Optimal Stopping Problem.**\n",
        "This lecture is based on [Rust (1987)](https://www.jstor.org/stable/1911259), which empirically studies an optimal stopping problem where a decision maker (DM) has to decide either to replace an engine of a bus or to maintain the existing one. The model is as follows. At the end of each period $t$, DM chooses the value of a control variable\n",
        "\n",
        "$$i_t=\\left\\{\\begin{array}{ll} 1, & \\text{if DM replaces the engine}\\\\0&\\text{if maintains the engine}\\end{array}\\right.\\tag{1}.$$\n",
        "\n",
        "The DM's goal is to choose a sequence $\\{i_1,i_2,\\ldots\\}$ that maximizes his discounted expected utility\n",
        "\n",
        "$$\\max_{i_1,i_2,\\ldots}E\\sum_{t=1}^\\infty\\beta^{t-1}u(x_t,\\varepsilon_t,i_t;\\theta),\\tag{2}$$\n",
        "\n",
        "where $x_t$ is the mileage of the bus at the end of period $t$, $\\varepsilon_t$ denotes shocks in period $t$, and $\\theta$ is the parameters of the utility function that we want to estimate. We assume that evolution of mileage is stochastic and follows\n",
        "\n",
        "$$x_{t+1}\\left\\{\\begin{array}{ll} \\sim G(x'|x_t), & i_t=0\\\\=0,&i_t=1\\end{array}\\right.\\tag{3}.$$\n",
        "\n",
        "The state variables of this problem are $x_t$ and $\\varepsilon_t$. The former is observed by both the DM and the econometrician, but the latter is only observed by the DM.\n",
        "\n",
        "<br/>\n",
        "\n",
        "#### **The Bellman Equation.**\n",
        "In each period, the DM chooses $i_t$ such that\n",
        "\n",
        "$$i_t={\\arg\\max}_i\\{u(x_t,\\varepsilon_t,i_t;\\theta)+\\beta E_{x',\\varepsilon'|x_t,\\varepsilon_t,i_t}V(x',\\varepsilon')\\}\\tag{4},$$\n",
        "\n",
        "where the value function is\n",
        "\n",
        "$$V(x,\\varepsilon)=\\max_{i\\in\\{0,1\\}}\\{u(x,\\varepsilon,i;\\theta)+\\beta E_{x',\\varepsilon'|x,\\varepsilon,i}V(x',\\varepsilon')\\}.\\tag{5}$$\n",
        "\n",
        "This is an infinite-horizon dynamic programming problem, which can be solved using value function iteration. When implementing value function iteration, instead of iterating over the value function in equation (5), we iterate over the *choice-specific* value functions\n",
        "\n",
        "$$\\tilde V(x,\\varepsilon,i)=\\left\\{\\begin{array}{ll} u(x,\\varepsilon,1;\\theta)+\\beta EV(0,\\varepsilon'), & i_t=1\\\\u(x,\\varepsilon,0;\\theta)+\\beta E_{x',\\varepsilon'|x,\\varepsilon,i}V(x',\\varepsilon'),&i_t=0\\end{array}\\right.\\tag{6}.$$\n",
        "\n",
        "<br/>\n",
        "\n",
        "#### **Parameters to be Estimated.**\n",
        "The deterministic and stochastic parts of the utility function are assumed to be additively separable\n",
        "\n",
        "$$u(x_t,\\varepsilon_t,i;\\theta)=-c((1-i_t)x_t;\\theta)-i_tRC+\\varepsilon_{it}.\\tag{7}$$\n",
        "\n",
        "$c(\\cdot;\\cdot)$ is the maintenance cost function that is presumably increasing in $x_t$, $RC$ is the replacement cost, and $\\varepsilon_{it},i=0,1$ are structural errors. The parameters that need to be estimated are $\\theta,RC,$ and the parameters of mileage transition function $G(x'|x)$. The discount factor $\\beta$ is not typically estimated, because there is an identification problem. In particular, the time series data on $\\{i_t,x_t\\}$ could be equally well explained by a model of myopic DM. To identify the discount factor, one needs variables that does not affect current payoff, but only future payoffs.\n",
        "\n",
        "<br/>\n",
        "\n",
        "#### **Econometric Model.**\n",
        "The likelihood function of an observed history $x_0,x_1,\\ldots,x_T,i_0,i_1,\\ldots,i_T$ is\n",
        "\n",
        "$$l(x_1,\\ldots,x_T,i_1,\\ldots,i_T|x_0,i_0;\\theta)=\\prod_{t=1}^T\\Pr(i_t,x_t|x_0,\\ldots,x_{t-1},i_0,\\ldots,i_{t-1};\\theta).\\tag{8}$$\n",
        "\n",
        "Assuming that the trasition probabilities has the Markov property, then\n",
        "\n",
        "$$l(x_1,\\ldots,x_T,i_1,\\ldots,i_T|x_0,i_0;\\theta)=\\prod_{t=1}^T\\Pr(i_t,x_t|x_{t-1},i_{t-1};\\theta)=\\prod_{t=1}^T\\Pr(i_t|x_t,x_{t-1},i_{t-1};\\theta)\\Pr(x_t|i_t,x_{t-1},i_{t-1};\\tilde\\theta).\\tag{9}$$\n",
        "\n",
        "If we also assume that (1) $\\varepsilon$ is independent over time given $x$ and (2) $x'$ is independent of $\\varepsilon$ conditional on $x$ and $i$, then \n",
        "\n",
        "$$l(x_1,\\ldots,x_T,i_1,\\ldots,i_T|x_0,i_0;\\theta)=\\prod_{t=1}^T\\Pr(i_t|x_t;\\theta)\\Pr(x_t|x_{t-1},i_{t-1};\\tilde\\theta),\\tag{10}$$\n",
        "\n",
        "and the log-likelihood function is\n",
        "\n",
        "$$LL(x_1,\\ldots,x_T,i_1,\\ldots,i_T|x_0,i_0;\\theta)=\\sum_{t=1}^T\\log\\Pr(i_t|x_t;\\theta)+\\sum_{t=1}^T\\log\\Pr(x_t|x_{t-1},i_{t-1};\\tilde\\theta).\\tag{11}$$\n",
        "\n",
        "Therefore, the parameters can be estimated in two independent steps. The transition probabilities parameters $\\tilde\\theta$ can be estimated by computing empirical frequencies, independent of the estimation of the other structural parameters $\\theta$.\n",
        "\n",
        "Assuming that the distributions of $\\varepsilon$ are i.i.d. extreme value, then \n",
        "\n",
        "$$\\Pr(i_t|x_t;\\theta)=\\frac{\\exp(u(x_t,i_t;\\theta)+\\beta E_{x',\\varepsilon'|x_t,\\varepsilon_t,i_t}V(x',\\varepsilon'))}{\\sum_{i=0,1}\\exp(u(x_t,i;\\theta)+\\beta E_{x',\\varepsilon'|x_t,\\varepsilon_t,i}V(x',\\varepsilon'))},\\tag{12}$$\n",
        "\n",
        "where $u(x,i;\\theta)=-c((1-i)x;\\theta)-iRC$ is the deterministic part of the utility function. \n",
        "\n",
        "<br/>\n",
        "\n",
        "#### **Estimation of the Structural Parameters: Nested Fixed Point Algorithm.**\n",
        "The estimation of the structural parameters is done with a nested algorithm. The outer loop of the algorithm searches (grid search) over different parameter values $\\hat\\theta$. Given $\\hat\\theta$, the inner loop then utilize value function iteration to compute $V(x,\\varepsilon;\\hat\\theta)$, from which one can compute the log-likelihood function. The goal is to find $\\hat\\theta$ that maximizes the log-likelihood function. \n",
        "\n",
        "When doing the inner loop, we want to iterate over the expected value function, rather than value function, because this can help us avoid computing value functions separatively for $\\varepsilon_0$ and $\\varepsilon_1$. The expected value function is \n",
        "\n",
        "\\begin{align}\n",
        "EV(x,i)&=E_{x',\\varepsilon'|x,i}\\left\\{\\max_{i'\\in\\{0,1\\}}[u(x',i';\\theta)+\\varepsilon'+\\beta EV(x',i')]\\right\\}\\\\\n",
        "&=E_{x'|x,i}E_{\\varepsilon'|x',x,i}\\left\\{\\max_{i'\\in\\{0,1\\}}[u(x',i';\\theta)+\\varepsilon'+\\beta EV(x',i')]\\right\\}\\\\\n",
        "&=E_{x'|x,i}\\log\\left\\{\\sum_{i'\\in\\{0,1\\}}\\exp[u(x',i';\\theta)+\\varepsilon'+\\beta EV(x',i')]\\right\\}\\\\\n",
        "&=\\int_{x'}\\log\\left\\{\\sum_{i'\\in\\{0,1\\}}\\exp[u(x',i';\\theta)+\\varepsilon'+\\beta EV(x',i')]\\right\\}\\Pr(dx'|x,i).\\tag{13}\n",
        "\\end{align}\n",
        "\n",
        "For a continuous state space, one can discretize the state space and do interpolation to estimate expected value function at other state space values. For the inner loop, simply iterate over equation (13) till the difference between the left-hand side and the right-hand side are within a specified tolerance level.\n",
        "\n",
        "<br/>\n",
        "\n",
        "#### **Programming Exercise: A Simplified Problem.**\n",
        "We consider a problem similar to Rust (1987), but instead of observing mileage for each period, we observe the age of machine $a_t$ at time $t$. The firm's payoff function is \n",
        "\n",
        "$$\\Pi(a_t,i_t,\\varepsilon_{0t},\\varepsilon_{1t})=\\left\\{\\begin{array}{ll} \\theta a_t+\\varepsilon_{0t}, & i_t=0\\\\R+\\varepsilon_{1t},&i_t=1\\end{array}\\right.,\\tag{14}$$\n",
        "\n",
        "and the evolution of the age is simply\n",
        "\n",
        "$$a_{t+1}=\\left\\{\\begin{array}{ll} \\min\\{a_t+1,5\\}, & i_t=0\\\\1,&i_t=1\\end{array}\\right..\\tag{15}$$\n",
        "\n",
        "The firm's problem is to choose a sequence $\\{i_1,i_2,\\ldots\\}$ that maximizes the discounted expected payoff\n",
        "\n",
        "$$\\max_{i_1,i_2,\\ldots}E\\sum_{t=1}^\\infty\\beta^{t-1}\\Pi(a_t,i_t,\\varepsilon_t).\\tag{16}$$\n",
        "\n",
        "This is an infinite-horizon dynamic programming problem, and the value function is\n",
        "\n",
        "the value function is\n",
        "\n",
        "$$V(a,\\varepsilon)=\\max_{i\\in\\{0,1\\}}\\{\\Pi(a,i,\\varepsilon;\\theta,R)+\\beta E_{\\varepsilon'|a,\\varepsilon,i}V(a+1,\\varepsilon')\\},\\tag{17}$$\n",
        "\n",
        "and the choice-specific value functions are\n",
        "\n",
        "$$\\bar V_i(a,\\varepsilon)=\\left\\{\\begin{array}{ll} \\Pi(a,1,\\varepsilon;\\theta,R)+\\beta E_{\\varepsilon'|a,\\varepsilon,1}V(1,\\varepsilon'), & i_t=1\\\\\\Pi(a,0,\\varepsilon;\\theta,R)+\\beta E_{\\varepsilon'|x,\\varepsilon,i}V(\\min\\{a+1,5\\},\\varepsilon'),&i_t=0\\end{array}\\right.\\tag{18}.$$\n",
        "\n",
        "We first write a procedure that implements value function iteration given $(\\theta,R)$, assuming $\\beta=0.9$."
      ],
      "metadata": {
        "id": "Ws1ge2lOgdav"
      }
    },
    {
      "cell_type": "code",
      "source": [
        "import numpy as np  # Import numpy for matrix operations.\n",
        "\n",
        "\n",
        "# Setting up number of states (age from 1 to 5) and actions (i = 0,1) and the discount factor.\n",
        "NState = 5\n",
        "NAct = 2\n",
        "beta = 0.9\n",
        "\n",
        "# Setting up choice-specific state transition probabilities.\n",
        "F0 = np.array([[0, 1, 0, 0, 0],\n",
        "               [0, 0, 1, 0, 0],\n",
        "               [0, 0, 0, 1, 0],\n",
        "               [0, 0, 0, 0, 1],\n",
        "               [0, 0, 0, 0, 1]])\n",
        "F1 = np.array([[1, 0, 0, 0, 0],\n",
        "               [1, 0, 0, 0, 0],\n",
        "               [1, 0, 0, 0, 0],\n",
        "               [1, 0, 0, 0, 0],\n",
        "               [1, 0, 0, 0, 0]])\n",
        "\n",
        "def ValIter(theta, Tol=1e-6):\n",
        "  EV0 = np.zeros((NState, NAct))\n",
        "  EV1 = np.zeros((NState, NAct))\n",
        "  StateGrid = np.array([1, 2, 3, 4, 5])  # State space is already discrete, otherwise create a grid.\n",
        "  U = np.zeros((NState, NAct))  # Filling out the deterministic part of the utility fucntion for all states (in grid) and actions.\n",
        "  U[:,0] = theta[0] * StateGrid  # Payoff when not replacing the engine.\n",
        "  U[:,1] = theta[1]  # Payoff when replacing the engine.\n",
        "  err = 1\n",
        "  while abs(err > Tol):\n",
        "    Val = U + beta * EV0\n",
        "    IncVal = np.log(np.exp(Val).sum(axis=1))\n",
        "    EV1[:,0] = np.dot(F0, IncVal)\n",
        "    EV1[:,1] = np.dot(F1, IncVal)\n",
        "    err = np.absolute(EV1 - EV0).max()\n",
        "    EV0 = EV1\n",
        "  return EV0\n"
      ],
      "metadata": {
        "id": "8pdDr04tgvS4"
      },
      "execution_count": 32,
      "outputs": []
    },
    {
      "cell_type": "markdown",
      "source": [
        "Next, we solve the dynamic programming problem for the parameters $\\theta=-1$ and $R=-3$."
      ],
      "metadata": {
        "id": "44tBtFS4t4GS"
      }
    },
    {
      "cell_type": "code",
      "source": [
        "ValIter([-1,-3])"
      ],
      "metadata": {
        "colab": {
          "base_uri": "https://localhost:8080/"
        },
        "id": "AmlQWB5Mvzrd",
        "outputId": "edb7fa96-7a37-4b23-a2a8-c71c3e539c05"
      },
      "execution_count": 33,
      "outputs": [
        {
          "output_type": "execute_result",
          "data": {
            "text/plain": [
              "array([[-3.2273141 , -2.27005023],\n",
              "       [-3.60721742, -2.27005023],\n",
              "       [-3.72673196, -2.27005023],\n",
              "       [-3.76364057, -2.27005023],\n",
              "       [-3.76364057, -2.27005023]])"
            ]
          },
          "metadata": {},
          "execution_count": 33
        }
      ]
    },
    {
      "cell_type": "markdown",
      "source": [
        "We can see that when $a_t=2$, the firm will replace its machine in period $t$ if\n",
        "\n",
        "$$-3.60721742+\\varepsilon_{0t}\\leq-2.27005023+\\varepsilon_{1t}\\iff\\varepsilon_{0t}-\\varepsilon_{1t}\\leq 1.33716719.\\tag{19}$$\n",
        "\n",
        "Because $\\varepsilon_{0t}-\\varepsilon_{1t}$ follows the type I extreme value distribution, the probability that the firm will replace the machine is\n",
        "\n",
        "$$\\frac{exp(-2.27005023)}{\\exp(-2.27005023)+exp(-3.60721742)}\\approx 0.7920.\\tag{20}$$\n",
        "\n",
        "Suppose the firm is at the state $\\{a_t=4,\\varepsilon_{0t}=1,\\varepsilon_{1t}=1.5\\}$. Then the firm's expected value is $\\max\\{-4+1+0.9(-3.76364057),-3+1.5+0.9(-2.27005023)\\}=-3.543045207$.\n",
        "\n",
        "Finally, we estimate $(\\theta,R)$ using maximum likelihood method. To do so we first write a function that computes the log-likelihood function given the expected value function."
      ],
      "metadata": {
        "id": "_TcS6DyNytq-"
      }
    },
    {
      "cell_type": "code",
      "source": [
        "data = np.loadtxt(\"rust.txt\")  # Load the data.\n",
        "N = np.shape(data)[0]  # Number of data points.\n",
        "Ch = data[:,1]  # Choice data.\n",
        "\n",
        "def LogLik(theta):\n",
        "  U = np.zeros((N, NAct))  # Flow utility.\n",
        "  U[:,0] = theta[0] * data[:,0]\n",
        "  U[:,1] = theta[1]\n",
        "  EV = ValIter(theta)\n",
        "  index = (data[:,0] - 1).astype(int)  # Setting up index for values in the value function.\n",
        "  V = np.zeros((N, NAct))  # Choice-specific value functions.\n",
        "  V[:,0] = np.exp(U[:,0] + beta * EV[index][:,0] + 1e-30)\n",
        "  V[:,1] = np.exp(U[:,1] + beta * EV[index][:,1] + 1e-30)\n",
        "  SV = np.zeros((N, NAct))  # Obtain probabilities through standard logit formula.\n",
        "  SV[:,0] = V.sum(axis=1)\n",
        "  SV[:,1] = V.sum(axis=1)\n",
        "  Prob = np.divide(V, SV)\n",
        "  LL = - (np.dot((1 - Ch), np.log(Prob[:,0])) + np.dot(Ch, np.log(Prob[:,1]))).sum() # Compute log-likelihood.\n",
        "  return LL\n"
      ],
      "metadata": {
        "id": "4qaPF0wUuG9y"
      },
      "execution_count": 34,
      "outputs": []
    },
    {
      "cell_type": "markdown",
      "source": [
        "Then, we find the parameters that maximizes the log-likelihood."
      ],
      "metadata": {
        "id": "wV0gaBDvEj1M"
      }
    },
    {
      "cell_type": "code",
      "source": [
        "from scipy.optimize import minimize  # Import scipy for minimization.\n",
        "\n",
        "initial_guess = [-1,-3]\n",
        "est = minimize(LogLik, initial_guess, method='BFGS', tol=1e-6)\n",
        "print('Estimation results: theta = ' + str(est.x[0]) + ' and R = ' + str(est.x[1]))"
      ],
      "metadata": {
        "colab": {
          "base_uri": "https://localhost:8080/"
        },
        "id": "kyQ26xWvDJIJ",
        "outputId": "6cf0e95e-b853-44bc-e152-91302d0f7180"
      },
      "execution_count": 40,
      "outputs": [
        {
          "output_type": "stream",
          "name": "stdout",
          "text": [
            "Estimation results: theta = -0.9976661205682371 and R = -4.3784231312494875\n"
          ]
        }
      ]
    },
    {
      "cell_type": "markdown",
      "source": [
        "Now, suppose that firms differ in their value of $\\theta$: proportion $\\alpha$ of firms have $\\theta=\\theta_A$ and proportion $1-\\alpha$ of firms have $\\theta=\\theta_B$. Then, the log-likelihood function is \n",
        "\n",
        "$$LL(a_1,\\ldots,a_T,i_1,\\ldots,i_T|a_0,i_0;\\theta)=\\sum_{t=1}^T\\log\\Pr(i_t|a_t;\\theta_A,\\theta_B,\\alpha,R),\\tag{21}$$\n",
        "\n",
        "where\n",
        "\n",
        "$$\\Pr(i_t|a_t;\\theta_A,\\theta_B,\\alpha,R)=\\frac{\\exp(\\Pi(a_t,i_t;\\theta_A,\\theta_B,\\alpha,R)+\\beta E_{\\varepsilon'|a_t,\\varepsilon_t,i_t}V(a',\\varepsilon'))}{\\sum_{i=0,1}\\exp(\\Pi(a_t,i;\\theta_A,\\theta_B,\\alpha,R)+\\beta E_{\\varepsilon'|a_t,\\varepsilon_t,i}V(a',\\varepsilon'))},\\tag{22}$$\n",
        "\n",
        "and \n",
        "\n",
        "$$\\Pi(a_t,i_t;\\theta_A,\\theta_B,\\alpha,R)=\\left\\{\\begin{array}{ll}(\\alpha\\theta_A+(1-\\alpha)\\theta_B)a_t,&i_t=0\\\\R, & i_t=1\\end{array}\\right.\\tag{23}.$$"
      ],
      "metadata": {
        "id": "OlrEZcYAJCZQ"
      }
    }
  ]
}
